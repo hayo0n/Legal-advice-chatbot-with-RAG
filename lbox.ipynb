{
 "cells": [
  {
   "cell_type": "code",
   "execution_count": 1,
   "metadata": {},
   "outputs": [
    {
     "name": "stderr",
     "output_type": "stream",
     "text": [
      "/compuworks/anaconda3/envs/kdhdiff3/lib/python3.10/site-packages/tqdm/auto.py:21: TqdmWarning: IProgress not found. Please update jupyter and ipywidgets. See https://ipywidgets.readthedocs.io/en/stable/user_install.html\n",
      "  from .autonotebook import tqdm as notebook_tqdm\n"
     ]
    }
   ],
   "source": [
    "# !pip install datasets\n",
    "from datasets import load_dataset\n",
    "\n",
    "\n",
    "# statutes classification task\n",
    "data_st = load_dataset(\"lbox/lbox_open\", \"statute_classification\")\n",
    "data_st_plus = load_dataset(\"lbox/lbox_open\", \"statute_classification_plus\")\n",
    "\n"
   ]
  },
  {
   "cell_type": "code",
   "execution_count": null,
   "metadata": {},
   "outputs": [],
   "source": [
    "for data in data_st_plus['train']:\n",
    "    # print(data['facts'])\n",
    "    facts = data['facts']\n",
    "    case_id = data['id']\n",
    "    with open(f'./document/text_{case_id}.txt', 'w') as file:\n",
    "        # 여러 줄을 파일에 쓰기\n",
    "        file.writelines(facts)\n",
    "    # break"
   ]
  },
  {
   "cell_type": "code",
   "execution_count": 45,
   "metadata": {},
   "outputs": [
    {
     "ename": "SyntaxError",
     "evalue": "invalid syntax (784335743.py, line 1)",
     "output_type": "error",
     "traceback": [
      "\u001b[0;36m  Cell \u001b[0;32mIn[45], line 1\u001b[0;36m\u001b[0m\n\u001b[0;31m    다음 문서들을 바탕으로 질문에 답하시오\u001b[0m\n\u001b[0m       ^\u001b[0m\n\u001b[0;31mSyntaxError\u001b[0m\u001b[0;31m:\u001b[0m invalid syntax\n"
     ]
    }
   ],
   "source": [
    "# 다음 문서들을 바탕으로 질문에 답하시오\n",
    "\n",
    "# 문서 :\n",
    "# 범죄 사실 : '질병관리청장, 시·도지사 또는 시장·군수·구청장은 감염병을 예방하기 위하여 감염병의심자를 적당한 장소에 일정한 기간 입원 또는 격리시키는 조치를 하거나 그에 필요한 일부 조치를 하여야 하고, 위와 같은 조치를 받은 사람은 이를 위반하여서는 아니 된다. 피고인은 감염병의심자에 해당하여 2021. 4. 12. 원주시장으로부터 ‘2021. 4. 12.부터 같은 달 22. 12:00경까지, 원주시 B아파트 C호 자택에서 격리조치 하라’는 내용의 격리통지를 받았음에도, 2021. 4. 14. 11:00경부터 같은 날 16:27경까지 위 격리장소에서 이탈하여 원주시 무실동에 있는 PC방을 방문하는 등 격리 조치를 위반하였다.'\n",
    "\n",
    "# # 위 범죄 사실에 대한 관련 법령 : '도로교통법위반(음주측정거부)에 관한 (감염병의 예방 및 관리에 관한 법률 제49조 제1항 제14호, 감염병의 예방 및 관리에 관한 법률 제79조의3 제5호'\n",
    "\n",
    "# 질문 :\n",
    "# 사용자의 쿼리...\n",
    "# 내가지금 ~~~ 상황인데 ~~ 일이 벌어졌다.\n",
    "\n"
   ]
  }
 ],
 "metadata": {
  "kernelspec": {
   "display_name": "kdhdiff3",
   "language": "python",
   "name": "python3"
  },
  "language_info": {
   "codemirror_mode": {
    "name": "ipython",
    "version": 3
   },
   "file_extension": ".py",
   "mimetype": "text/x-python",
   "name": "python",
   "nbconvert_exporter": "python",
   "pygments_lexer": "ipython3",
   "version": "3.10.13"
  },
  "orig_nbformat": 4
 },
 "nbformat": 4,
 "nbformat_minor": 2
}
